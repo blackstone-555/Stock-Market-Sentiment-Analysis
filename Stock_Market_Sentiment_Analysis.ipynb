{
  "nbformat": 4,
  "nbformat_minor": 0,
  "metadata": {
    "colab": {
      "name": "Stock Market Sentiment Analysis.ipynb",
      "provenance": [],
      "collapsed_sections": [],
      "authorship_tag": "ABX9TyNj5HcsozubE3EuavC7dGhi",
      "include_colab_link": true
    },
    "kernelspec": {
      "display_name": "Python 3",
      "name": "python3"
    }
  },
  "cells": [
    {
      "cell_type": "markdown",
      "metadata": {
        "id": "view-in-github",
        "colab_type": "text"
      },
      "source": [
        "<a href=\"https://colab.research.google.com/github/blackstone-555/Stock-Market-Sentiment-Analysis/blob/main/Stock_Market_Sentiment_Analysis.ipynb\" target=\"_parent\"><img src=\"https://colab.research.google.com/assets/colab-badge.svg\" alt=\"Open In Colab\"/></a>"
      ]
    },
    {
      "cell_type": "markdown",
      "metadata": {
        "id": "FsBkd_QaK8bF"
      },
      "source": [
        "# **Stock Market Sentiment Analysis**"
      ]
    },
    {
      "cell_type": "code",
      "metadata": {
        "id": "bFNhrlKVhtP_"
      },
      "source": [
        "import pandas as pd\r\n",
        "import numpy as np\r\n",
        "import warnings\r\n",
        "warnings.filterwarnings(\"ignore\")\r\n",
        "import matplotlib.pyplot as plt\r\n",
        "import seaborn as sns\r\n",
        "import scipy.stats as stats"
      ],
      "execution_count": 265,
      "outputs": []
    },
    {
      "cell_type": "markdown",
      "metadata": {
        "id": "s1xBL4_7MOVK"
      },
      "source": [
        "**Loading Textual(News) data and stock prices data**"
      ]
    },
    {
      "cell_type": "markdown",
      "metadata": {
        "id": "wm2vCw9FLSih"
      },
      "source": [
        "Downloaded textual (news) data from https://bit.ly36fFPI6"
      ]
    },
    {
      "cell_type": "code",
      "metadata": {
        "id": "D0qrepGbjXxT"
      },
      "source": [
        "df1 = pd.read_csv(\"/content/india-news-headlines.csv (1).crdownload\")"
      ],
      "execution_count": 272,
      "outputs": []
    },
    {
      "cell_type": "markdown",
      "metadata": {
        "id": "nrmqwRnqMCsz"
      },
      "source": [
        "Downloaded historical stock prices from (https://finance.yahoo.com)"
      ]
    },
    {
      "cell_type": "code",
      "metadata": {
        "id": "Kh1oGSx9M7Yv"
      },
      "source": [
        "df2 = pd.read_csv(\"/content/^BSESN.csv\")"
      ],
      "execution_count": 274,
      "outputs": []
    },
    {
      "cell_type": "markdown",
      "metadata": {
        "id": "krKWu0ZYMl0p"
      },
      "source": [
        "**Data pre-processing**"
      ]
    },
    {
      "cell_type": "code",
      "metadata": {
        "colab": {
          "base_uri": "https://localhost:8080/",
          "height": 202
        },
        "id": "DG1lvG28JWwi",
        "outputId": "a5ce4e05-61b4-43f4-b419-55dfc2def065"
      },
      "source": [
        "df1.head()"
      ],
      "execution_count": 276,
      "outputs": [
        {
          "output_type": "execute_result",
          "data": {
            "text/html": [
              "<div>\n",
              "<style scoped>\n",
              "    .dataframe tbody tr th:only-of-type {\n",
              "        vertical-align: middle;\n",
              "    }\n",
              "\n",
              "    .dataframe tbody tr th {\n",
              "        vertical-align: top;\n",
              "    }\n",
              "\n",
              "    .dataframe thead th {\n",
              "        text-align: right;\n",
              "    }\n",
              "</style>\n",
              "<table border=\"1\" class=\"dataframe\">\n",
              "  <thead>\n",
              "    <tr style=\"text-align: right;\">\n",
              "      <th></th>\n",
              "      <th>publish_date</th>\n",
              "      <th>headline_category</th>\n",
              "      <th>headline_text</th>\n",
              "    </tr>\n",
              "  </thead>\n",
              "  <tbody>\n",
              "    <tr>\n",
              "      <th>0</th>\n",
              "      <td>20010101</td>\n",
              "      <td>sports.wwe</td>\n",
              "      <td>win over cena satisfying but defeating underta...</td>\n",
              "    </tr>\n",
              "    <tr>\n",
              "      <th>1</th>\n",
              "      <td>20010102</td>\n",
              "      <td>unknown</td>\n",
              "      <td>Status quo will not be disturbed at Ayodhya; s...</td>\n",
              "    </tr>\n",
              "    <tr>\n",
              "      <th>2</th>\n",
              "      <td>20010102</td>\n",
              "      <td>unknown</td>\n",
              "      <td>Fissures in Hurriyat over Pak visit</td>\n",
              "    </tr>\n",
              "    <tr>\n",
              "      <th>3</th>\n",
              "      <td>20010102</td>\n",
              "      <td>unknown</td>\n",
              "      <td>America's unwanted heading for India?</td>\n",
              "    </tr>\n",
              "    <tr>\n",
              "      <th>4</th>\n",
              "      <td>20010102</td>\n",
              "      <td>unknown</td>\n",
              "      <td>For bigwigs; it is destination Goa</td>\n",
              "    </tr>\n",
              "  </tbody>\n",
              "</table>\n",
              "</div>"
            ],
            "text/plain": [
              "   publish_date  ...                                      headline_text\n",
              "0      20010101  ...  win over cena satisfying but defeating underta...\n",
              "1      20010102  ...  Status quo will not be disturbed at Ayodhya; s...\n",
              "2      20010102  ...                Fissures in Hurriyat over Pak visit\n",
              "3      20010102  ...              America's unwanted heading for India?\n",
              "4      20010102  ...                 For bigwigs; it is destination Goa\n",
              "\n",
              "[5 rows x 3 columns]"
            ]
          },
          "metadata": {
            "tags": []
          },
          "execution_count": 276
        }
      ]
    },
    {
      "cell_type": "code",
      "metadata": {
        "id": "FOfBfNIP3LnF"
      },
      "source": [
        "df1['publish_date'] = np.array([str(str(str(x)[:4]) + '/' +str(str(x)[4:6]) + '/' + str(str(x)[6:])) for x in df1['publish_date']]) "
      ],
      "execution_count": 277,
      "outputs": []
    },
    {
      "cell_type": "code",
      "metadata": {
        "colab": {
          "base_uri": "https://localhost:8080/",
          "height": 202
        },
        "id": "AmCTm7iHPJWS",
        "outputId": "7e087cf1-5892-43a6-8e6f-5ba777974898"
      },
      "source": [
        "df1.head()"
      ],
      "execution_count": 278,
      "outputs": [
        {
          "output_type": "execute_result",
          "data": {
            "text/html": [
              "<div>\n",
              "<style scoped>\n",
              "    .dataframe tbody tr th:only-of-type {\n",
              "        vertical-align: middle;\n",
              "    }\n",
              "\n",
              "    .dataframe tbody tr th {\n",
              "        vertical-align: top;\n",
              "    }\n",
              "\n",
              "    .dataframe thead th {\n",
              "        text-align: right;\n",
              "    }\n",
              "</style>\n",
              "<table border=\"1\" class=\"dataframe\">\n",
              "  <thead>\n",
              "    <tr style=\"text-align: right;\">\n",
              "      <th></th>\n",
              "      <th>publish_date</th>\n",
              "      <th>headline_category</th>\n",
              "      <th>headline_text</th>\n",
              "    </tr>\n",
              "  </thead>\n",
              "  <tbody>\n",
              "    <tr>\n",
              "      <th>0</th>\n",
              "      <td>2001/01/01</td>\n",
              "      <td>sports.wwe</td>\n",
              "      <td>win over cena satisfying but defeating underta...</td>\n",
              "    </tr>\n",
              "    <tr>\n",
              "      <th>1</th>\n",
              "      <td>2001/01/02</td>\n",
              "      <td>unknown</td>\n",
              "      <td>Status quo will not be disturbed at Ayodhya; s...</td>\n",
              "    </tr>\n",
              "    <tr>\n",
              "      <th>2</th>\n",
              "      <td>2001/01/02</td>\n",
              "      <td>unknown</td>\n",
              "      <td>Fissures in Hurriyat over Pak visit</td>\n",
              "    </tr>\n",
              "    <tr>\n",
              "      <th>3</th>\n",
              "      <td>2001/01/02</td>\n",
              "      <td>unknown</td>\n",
              "      <td>America's unwanted heading for India?</td>\n",
              "    </tr>\n",
              "    <tr>\n",
              "      <th>4</th>\n",
              "      <td>2001/01/02</td>\n",
              "      <td>unknown</td>\n",
              "      <td>For bigwigs; it is destination Goa</td>\n",
              "    </tr>\n",
              "  </tbody>\n",
              "</table>\n",
              "</div>"
            ],
            "text/plain": [
              "  publish_date  ...                                      headline_text\n",
              "0   2001/01/01  ...  win over cena satisfying but defeating underta...\n",
              "1   2001/01/02  ...  Status quo will not be disturbed at Ayodhya; s...\n",
              "2   2001/01/02  ...                Fissures in Hurriyat over Pak visit\n",
              "3   2001/01/02  ...              America's unwanted heading for India?\n",
              "4   2001/01/02  ...                 For bigwigs; it is destination Goa\n",
              "\n",
              "[5 rows x 3 columns]"
            ]
          },
          "metadata": {
            "tags": []
          },
          "execution_count": 278
        }
      ]
    },
    {
      "cell_type": "code",
      "metadata": {
        "id": "aUynkf9B2ZZF"
      },
      "source": [
        "df1['publish_date'] = pd.to_datetime(df1['publish_date'])"
      ],
      "execution_count": 279,
      "outputs": []
    },
    {
      "cell_type": "code",
      "metadata": {
        "id": "JW2_U0XB45Wp"
      },
      "source": [
        "df1 = df1[['publish_date', 'headline_text']]"
      ],
      "execution_count": 280,
      "outputs": []
    },
    {
      "cell_type": "code",
      "metadata": {
        "id": "Odjsh-mnN7qD"
      },
      "source": [
        "df1.columns = ['publish_date','headline']"
      ],
      "execution_count": 281,
      "outputs": []
    },
    {
      "cell_type": "markdown",
      "metadata": {
        "id": "OWO8WKQ5M5hn"
      },
      "source": [
        "**Sequencing news having same date**"
      ]
    },
    {
      "cell_type": "code",
      "metadata": {
        "id": "QWFMM0bIJGXG"
      },
      "source": [
        "dict_news ={}\r\n",
        "t1 = df1.loc[0,'publish_date']\r\n",
        "t2 = str(df1.loc[0 , 'headline'])\r\n",
        "for x in range(1,len(df1)):\r\n",
        "  if df1.loc[x , 'publish_date'] == t1:\r\n",
        "    t2 += '. '+str(df1.loc[x,'headline'])\r\n",
        "  else:\r\n",
        "    dict_news[df1.loc[x-1,'publish_date']] = t2\r\n",
        "    t2 = \"\"\r\n",
        "    t1 = df1.loc[x ,'publish_date']  "
      ],
      "execution_count": 282,
      "outputs": []
    },
    {
      "cell_type": "code",
      "metadata": {
        "id": "ntxxju0v77yL"
      },
      "source": [
        "indexes = np.arange(0,len(dict_news))"
      ],
      "execution_count": 283,
      "outputs": []
    },
    {
      "cell_type": "code",
      "metadata": {
        "id": "lz_PeEea8TIr"
      },
      "source": [
        "df_news = pd.DataFrame(indexes)\r\n",
        "df_news['publish_date'] = dict_news.keys()"
      ],
      "execution_count": 284,
      "outputs": []
    },
    {
      "cell_type": "code",
      "metadata": {
        "colab": {
          "base_uri": "https://localhost:8080/",
          "height": 202
        },
        "id": "agLOTndn5CEY",
        "outputId": "2927bb45-614e-4859-8bb5-f5baf283f98a"
      },
      "source": [
        "df_news.head()"
      ],
      "execution_count": 285,
      "outputs": [
        {
          "output_type": "execute_result",
          "data": {
            "text/html": [
              "<div>\n",
              "<style scoped>\n",
              "    .dataframe tbody tr th:only-of-type {\n",
              "        vertical-align: middle;\n",
              "    }\n",
              "\n",
              "    .dataframe tbody tr th {\n",
              "        vertical-align: top;\n",
              "    }\n",
              "\n",
              "    .dataframe thead th {\n",
              "        text-align: right;\n",
              "    }\n",
              "</style>\n",
              "<table border=\"1\" class=\"dataframe\">\n",
              "  <thead>\n",
              "    <tr style=\"text-align: right;\">\n",
              "      <th></th>\n",
              "      <th>0</th>\n",
              "      <th>publish_date</th>\n",
              "    </tr>\n",
              "  </thead>\n",
              "  <tbody>\n",
              "    <tr>\n",
              "      <th>0</th>\n",
              "      <td>0</td>\n",
              "      <td>2001-01-01</td>\n",
              "    </tr>\n",
              "    <tr>\n",
              "      <th>1</th>\n",
              "      <td>1</td>\n",
              "      <td>2001-01-02</td>\n",
              "    </tr>\n",
              "    <tr>\n",
              "      <th>2</th>\n",
              "      <td>2</td>\n",
              "      <td>2001-01-03</td>\n",
              "    </tr>\n",
              "    <tr>\n",
              "      <th>3</th>\n",
              "      <td>3</td>\n",
              "      <td>2001-01-04</td>\n",
              "    </tr>\n",
              "    <tr>\n",
              "      <th>4</th>\n",
              "      <td>4</td>\n",
              "      <td>2001-01-05</td>\n",
              "    </tr>\n",
              "  </tbody>\n",
              "</table>\n",
              "</div>"
            ],
            "text/plain": [
              "   0 publish_date\n",
              "0  0   2001-01-01\n",
              "1  1   2001-01-02\n",
              "2  2   2001-01-03\n",
              "3  3   2001-01-04\n",
              "4  4   2001-01-05"
            ]
          },
          "metadata": {
            "tags": []
          },
          "execution_count": 285
        }
      ]
    },
    {
      "cell_type": "code",
      "metadata": {
        "id": "jQsm2kLP8TYF"
      },
      "source": [
        "l = []\r\n",
        "for i in dict_news.keys():\r\n",
        "  l.append(dict_news[i])"
      ],
      "execution_count": 286,
      "outputs": []
    },
    {
      "cell_type": "code",
      "metadata": {
        "colab": {
          "base_uri": "https://localhost:8080/",
          "height": 35
        },
        "id": "9KV-hjeD8-a8",
        "outputId": "92080b33-69d3-459b-d1c3-1e092985b33d"
      },
      "source": [
        "l[0]"
      ],
      "execution_count": 287,
      "outputs": [
        {
          "output_type": "execute_result",
          "data": {
            "application/vnd.google.colaboratory.intrinsic+json": {
              "type": "string"
            },
            "text/plain": [
              "'win over cena satisfying but defeating undertaker bigger roman reigns'"
            ]
          },
          "metadata": {
            "tags": []
          },
          "execution_count": 287
        }
      ]
    },
    {
      "cell_type": "code",
      "metadata": {
        "id": "PZmndUo68-ld"
      },
      "source": [
        "df_news['headline'] = np.array(l)"
      ],
      "execution_count": 288,
      "outputs": []
    },
    {
      "cell_type": "code",
      "metadata": {
        "id": "BgwPtTBJ9Niz"
      },
      "source": [
        "del df_news[0]"
      ],
      "execution_count": 289,
      "outputs": []
    },
    {
      "cell_type": "markdown",
      "metadata": {
        "id": "5xn8qiYi-DoW"
      },
      "source": [
        "**Sentiment analysis**"
      ]
    },
    {
      "cell_type": "code",
      "metadata": {
        "id": "vHfvIKLc9NnH"
      },
      "source": [
        "from textblob import TextBlob\r\n",
        "polarity = []\r\n",
        "subjectivity=[]\r\n",
        "tuples=[]\r\n",
        "for i in df_news['headline'].values:\r\n",
        "  my_valence=TextBlob(i)\r\n",
        "  tuples.append(my_valence.sentiment)"
      ],
      "execution_count": 290,
      "outputs": []
    },
    {
      "cell_type": "code",
      "metadata": {
        "colab": {
          "base_uri": "https://localhost:8080/",
          "height": 384
        },
        "id": "7GhlbLFE9NqP",
        "outputId": "02870dd9-cb45-4ffc-d488-4dd9728e3748"
      },
      "source": [
        "pip install -U git+https://github.com/sloria/TextBlob.git@dev"
      ],
      "execution_count": 291,
      "outputs": [
        {
          "output_type": "stream",
          "text": [
            "Collecting git+https://github.com/sloria/TextBlob.git@dev\n",
            "  Cloning https://github.com/sloria/TextBlob.git (to revision dev) to /tmp/pip-req-build-pirmj7om\n",
            "  Running command git clone -q https://github.com/sloria/TextBlob.git /tmp/pip-req-build-pirmj7om\n",
            "Requirement already satisfied, skipping upgrade: nltk>=3.1 in /usr/local/lib/python3.6/dist-packages (from textblob==0.17.0) (3.2.5)\n",
            "Requirement already satisfied, skipping upgrade: six in /usr/local/lib/python3.6/dist-packages (from nltk>=3.1->textblob==0.17.0) (1.15.0)\n",
            "Building wheels for collected packages: textblob\n",
            "  Building wheel for textblob (setup.py) ... \u001b[?25l\u001b[?25hdone\n",
            "  Created wheel for textblob: filename=textblob-0.17.0-py2.py3-none-any.whl size=636707 sha256=1316f240757ae23c6567afd54a0d5bbb9d34ad188dbd3c7d9d19d31c7bc67e54\n",
            "  Stored in directory: /tmp/pip-ephem-wheel-cache-27fpof2v/wheels/77/e7/4b/f2ac6cb423f94d4dccb473aefd022eae48c70b793eb4c53a5d\n",
            "Successfully built textblob\n",
            "Installing collected packages: textblob\n",
            "  Found existing installation: textblob 0.17.0\n",
            "    Uninstalling textblob-0.17.0:\n",
            "      Successfully uninstalled textblob-0.17.0\n",
            "Successfully installed textblob-0.17.0\n"
          ],
          "name": "stdout"
        },
        {
          "output_type": "display_data",
          "data": {
            "application/vnd.colab-display-data+json": {
              "pip_warning": {
                "packages": [
                  "textblob"
                ]
              }
            }
          },
          "metadata": {
            "tags": []
          }
        }
      ]
    },
    {
      "cell_type": "code",
      "metadata": {
        "id": "allfUY2c0-5x"
      },
      "source": [
        "for i in tuples:\r\n",
        "  polarity.append(i[0])\r\n",
        "  subjectivity.append(i[1])"
      ],
      "execution_count": 292,
      "outputs": []
    },
    {
      "cell_type": "code",
      "metadata": {
        "id": "XiF5V0G1_UWU"
      },
      "source": [
        "df_news['polarity']=np.array(polarity)\r\n",
        "df_news['subjectivity']=np.array(subjectivity)\r\n"
      ],
      "execution_count": 293,
      "outputs": []
    },
    {
      "cell_type": "code",
      "metadata": {
        "id": "MUatmFRd_Udk"
      },
      "source": [
        "temp =['positive','negative','neutral']\r\n",
        "temp1 = ['factual','public']\r\n",
        "polarity = []\r\n",
        "subjectivity=[]\r\n",
        "for i in range(len(df_news)):\r\n",
        "  pol = df_news.iloc[i]['polarity']\r\n",
        "  sub = df_news.iloc[i]['subjectivity']\r\n",
        "  if pol>=0:\r\n",
        "   if pol>=0.2:\r\n",
        "     polarity.append(temp[0])\r\n",
        "   else:\r\n",
        "     polarity.append(temp[2])\r\n",
        "  else:\r\n",
        "    if pol<= -0.2:\r\n",
        "      polarity.append(temp[1])\r\n",
        "    else:\r\n",
        "      polarity.append(temp[2])  \r\n",
        "  if sub >=0.4:\r\n",
        "    subjectivity.append(temp1[1])\r\n",
        "  else:\r\n",
        "    subjectivity.append(temp1[0])"
      ],
      "execution_count": 294,
      "outputs": []
    },
    {
      "cell_type": "code",
      "metadata": {
        "id": "D2QJ3Kl6XyzE"
      },
      "source": [
        "df_news['sentiment'] = polarity\r\n",
        "df_news['opinion'] = subjectivity"
      ],
      "execution_count": 295,
      "outputs": []
    },
    {
      "cell_type": "code",
      "metadata": {
        "colab": {
          "base_uri": "https://localhost:8080/"
        },
        "id": "EMUdemPB_UfD",
        "outputId": "cf2b6ef7-f29e-44a5-c985-89c0fe059ff9"
      },
      "source": [
        "df_news.shape"
      ],
      "execution_count": 296,
      "outputs": [
        {
          "output_type": "execute_result",
          "data": {
            "text/plain": [
              "(2494, 6)"
            ]
          },
          "metadata": {
            "tags": []
          },
          "execution_count": 296
        }
      ]
    },
    {
      "cell_type": "code",
      "metadata": {
        "colab": {
          "base_uri": "https://localhost:8080/"
        },
        "id": "CkFDB12rVXs_",
        "outputId": "d9373a7e-aa4a-4fe5-ec8a-62767a8b7910"
      },
      "source": [
        "df1.shape"
      ],
      "execution_count": 297,
      "outputs": [
        {
          "output_type": "execute_result",
          "data": {
            "text/plain": [
              "(522825, 2)"
            ]
          },
          "metadata": {
            "tags": []
          },
          "execution_count": 297
        }
      ]
    },
    {
      "cell_type": "code",
      "metadata": {
        "colab": {
          "base_uri": "https://localhost:8080/"
        },
        "id": "s132QkJI_Uh1",
        "outputId": "f235999a-9300-4404-a379-baf7507b7378"
      },
      "source": [
        "df_news.info()"
      ],
      "execution_count": 298,
      "outputs": [
        {
          "output_type": "stream",
          "text": [
            "<class 'pandas.core.frame.DataFrame'>\n",
            "RangeIndex: 2494 entries, 0 to 2493\n",
            "Data columns (total 6 columns):\n",
            " #   Column        Non-Null Count  Dtype         \n",
            "---  ------        --------------  -----         \n",
            " 0   publish_date  2494 non-null   datetime64[ns]\n",
            " 1   headline      2494 non-null   object        \n",
            " 2   polarity      2494 non-null   float64       \n",
            " 3   subjectivity  2494 non-null   float64       \n",
            " 4   sentiment     2494 non-null   object        \n",
            " 5   opinion       2494 non-null   object        \n",
            "dtypes: datetime64[ns](1), float64(2), object(3)\n",
            "memory usage: 117.0+ KB\n"
          ],
          "name": "stdout"
        }
      ]
    },
    {
      "cell_type": "code",
      "metadata": {
        "id": "JgAKUiApBEzc"
      },
      "source": [
        "df2['hl_pct'] = ((df2['High']-df2['Low'])/df2['Low'])*100\r\n",
        "df2['pct_change'] = ((df2['Close']-df2['Open'])/df2['Open'])*100"
      ],
      "execution_count": 299,
      "outputs": []
    },
    {
      "cell_type": "code",
      "metadata": {
        "id": "Z5TEP3Fk59Nu"
      },
      "source": [
        ""
      ],
      "execution_count": null,
      "outputs": []
    },
    {
      "cell_type": "code",
      "metadata": {
        "colab": {
          "base_uri": "https://localhost:8080/",
          "height": 202
        },
        "id": "uFbQByTl_UkO",
        "outputId": "eca67baf-0711-4538-f4e9-e8326ee830b4"
      },
      "source": [
        "df2.head()"
      ],
      "execution_count": 300,
      "outputs": [
        {
          "output_type": "execute_result",
          "data": {
            "text/html": [
              "<div>\n",
              "<style scoped>\n",
              "    .dataframe tbody tr th:only-of-type {\n",
              "        vertical-align: middle;\n",
              "    }\n",
              "\n",
              "    .dataframe tbody tr th {\n",
              "        vertical-align: top;\n",
              "    }\n",
              "\n",
              "    .dataframe thead th {\n",
              "        text-align: right;\n",
              "    }\n",
              "</style>\n",
              "<table border=\"1\" class=\"dataframe\">\n",
              "  <thead>\n",
              "    <tr style=\"text-align: right;\">\n",
              "      <th></th>\n",
              "      <th>Date</th>\n",
              "      <th>Open</th>\n",
              "      <th>High</th>\n",
              "      <th>Low</th>\n",
              "      <th>Close</th>\n",
              "      <th>Adj Close</th>\n",
              "      <th>Volume</th>\n",
              "      <th>hl_pct</th>\n",
              "      <th>pct_change</th>\n",
              "    </tr>\n",
              "  </thead>\n",
              "  <tbody>\n",
              "    <tr>\n",
              "      <th>0</th>\n",
              "      <td>2001-01-02</td>\n",
              "      <td>3953.219971</td>\n",
              "      <td>4028.570068</td>\n",
              "      <td>3929.370117</td>\n",
              "      <td>4018.879883</td>\n",
              "      <td>4018.879883</td>\n",
              "      <td>0.0</td>\n",
              "      <td>2.524576</td>\n",
              "      <td>1.660922</td>\n",
              "    </tr>\n",
              "    <tr>\n",
              "      <th>1</th>\n",
              "      <td>2001-01-03</td>\n",
              "      <td>3977.580078</td>\n",
              "      <td>4067.659912</td>\n",
              "      <td>3977.580078</td>\n",
              "      <td>4060.020020</td>\n",
              "      <td>4060.020020</td>\n",
              "      <td>0.0</td>\n",
              "      <td>2.264689</td>\n",
              "      <td>2.072616</td>\n",
              "    </tr>\n",
              "    <tr>\n",
              "      <th>2</th>\n",
              "      <td>2001-01-04</td>\n",
              "      <td>4180.970215</td>\n",
              "      <td>4180.970215</td>\n",
              "      <td>4109.549805</td>\n",
              "      <td>4115.370117</td>\n",
              "      <td>4115.370117</td>\n",
              "      <td>0.0</td>\n",
              "      <td>1.737913</td>\n",
              "      <td>-1.569016</td>\n",
              "    </tr>\n",
              "    <tr>\n",
              "      <th>3</th>\n",
              "      <td>2001-01-05</td>\n",
              "      <td>4116.339844</td>\n",
              "      <td>4195.009766</td>\n",
              "      <td>4115.350098</td>\n",
              "      <td>4183.729980</td>\n",
              "      <td>4183.729980</td>\n",
              "      <td>0.0</td>\n",
              "      <td>1.935672</td>\n",
              "      <td>1.637137</td>\n",
              "    </tr>\n",
              "    <tr>\n",
              "      <th>4</th>\n",
              "      <td>2001-01-08</td>\n",
              "      <td>4164.759766</td>\n",
              "      <td>4206.720215</td>\n",
              "      <td>4101.529785</td>\n",
              "      <td>4120.430176</td>\n",
              "      <td>4120.430176</td>\n",
              "      <td>0.0</td>\n",
              "      <td>2.564663</td>\n",
              "      <td>-1.064397</td>\n",
              "    </tr>\n",
              "  </tbody>\n",
              "</table>\n",
              "</div>"
            ],
            "text/plain": [
              "         Date         Open         High  ...  Volume    hl_pct  pct_change\n",
              "0  2001-01-02  3953.219971  4028.570068  ...     0.0  2.524576    1.660922\n",
              "1  2001-01-03  3977.580078  4067.659912  ...     0.0  2.264689    2.072616\n",
              "2  2001-01-04  4180.970215  4180.970215  ...     0.0  1.737913   -1.569016\n",
              "3  2001-01-05  4116.339844  4195.009766  ...     0.0  1.935672    1.637137\n",
              "4  2001-01-08  4164.759766  4206.720215  ...     0.0  2.564663   -1.064397\n",
              "\n",
              "[5 rows x 9 columns]"
            ]
          },
          "metadata": {
            "tags": []
          },
          "execution_count": 300
        }
      ]
    },
    {
      "cell_type": "code",
      "metadata": {
        "id": "tFWjuQj2_Umj"
      },
      "source": [
        "df2 = df2.drop(['Open','High','Close','Low'],axis =1)"
      ],
      "execution_count": 301,
      "outputs": []
    },
    {
      "cell_type": "code",
      "metadata": {
        "colab": {
          "base_uri": "https://localhost:8080/",
          "height": 202
        },
        "id": "dMQYghPm_Uoc",
        "outputId": "73075a37-731b-47c8-eeab-384f4734ece1"
      },
      "source": [
        "df2.head()"
      ],
      "execution_count": 302,
      "outputs": [
        {
          "output_type": "execute_result",
          "data": {
            "text/html": [
              "<div>\n",
              "<style scoped>\n",
              "    .dataframe tbody tr th:only-of-type {\n",
              "        vertical-align: middle;\n",
              "    }\n",
              "\n",
              "    .dataframe tbody tr th {\n",
              "        vertical-align: top;\n",
              "    }\n",
              "\n",
              "    .dataframe thead th {\n",
              "        text-align: right;\n",
              "    }\n",
              "</style>\n",
              "<table border=\"1\" class=\"dataframe\">\n",
              "  <thead>\n",
              "    <tr style=\"text-align: right;\">\n",
              "      <th></th>\n",
              "      <th>Date</th>\n",
              "      <th>Adj Close</th>\n",
              "      <th>Volume</th>\n",
              "      <th>hl_pct</th>\n",
              "      <th>pct_change</th>\n",
              "    </tr>\n",
              "  </thead>\n",
              "  <tbody>\n",
              "    <tr>\n",
              "      <th>0</th>\n",
              "      <td>2001-01-02</td>\n",
              "      <td>4018.879883</td>\n",
              "      <td>0.0</td>\n",
              "      <td>2.524576</td>\n",
              "      <td>1.660922</td>\n",
              "    </tr>\n",
              "    <tr>\n",
              "      <th>1</th>\n",
              "      <td>2001-01-03</td>\n",
              "      <td>4060.020020</td>\n",
              "      <td>0.0</td>\n",
              "      <td>2.264689</td>\n",
              "      <td>2.072616</td>\n",
              "    </tr>\n",
              "    <tr>\n",
              "      <th>2</th>\n",
              "      <td>2001-01-04</td>\n",
              "      <td>4115.370117</td>\n",
              "      <td>0.0</td>\n",
              "      <td>1.737913</td>\n",
              "      <td>-1.569016</td>\n",
              "    </tr>\n",
              "    <tr>\n",
              "      <th>3</th>\n",
              "      <td>2001-01-05</td>\n",
              "      <td>4183.729980</td>\n",
              "      <td>0.0</td>\n",
              "      <td>1.935672</td>\n",
              "      <td>1.637137</td>\n",
              "    </tr>\n",
              "    <tr>\n",
              "      <th>4</th>\n",
              "      <td>2001-01-08</td>\n",
              "      <td>4120.430176</td>\n",
              "      <td>0.0</td>\n",
              "      <td>2.564663</td>\n",
              "      <td>-1.064397</td>\n",
              "    </tr>\n",
              "  </tbody>\n",
              "</table>\n",
              "</div>"
            ],
            "text/plain": [
              "         Date    Adj Close  Volume    hl_pct  pct_change\n",
              "0  2001-01-02  4018.879883     0.0  2.524576    1.660922\n",
              "1  2001-01-03  4060.020020     0.0  2.264689    2.072616\n",
              "2  2001-01-04  4115.370117     0.0  1.737913   -1.569016\n",
              "3  2001-01-05  4183.729980     0.0  1.935672    1.637137\n",
              "4  2001-01-08  4120.430176     0.0  2.564663   -1.064397"
            ]
          },
          "metadata": {
            "tags": []
          },
          "execution_count": 302
        }
      ]
    },
    {
      "cell_type": "code",
      "metadata": {
        "colab": {
          "base_uri": "https://localhost:8080/",
          "height": 202
        },
        "id": "fm-Yl9-c6IGi",
        "outputId": "63f3e9d7-8408-4b58-95d0-db796ddad5ae"
      },
      "source": [
        "df2.tail()"
      ],
      "execution_count": 303,
      "outputs": [
        {
          "output_type": "execute_result",
          "data": {
            "text/html": [
              "<div>\n",
              "<style scoped>\n",
              "    .dataframe tbody tr th:only-of-type {\n",
              "        vertical-align: middle;\n",
              "    }\n",
              "\n",
              "    .dataframe tbody tr th {\n",
              "        vertical-align: top;\n",
              "    }\n",
              "\n",
              "    .dataframe thead th {\n",
              "        text-align: right;\n",
              "    }\n",
              "</style>\n",
              "<table border=\"1\" class=\"dataframe\">\n",
              "  <thead>\n",
              "    <tr style=\"text-align: right;\">\n",
              "      <th></th>\n",
              "      <th>Date</th>\n",
              "      <th>Adj Close</th>\n",
              "      <th>Volume</th>\n",
              "      <th>hl_pct</th>\n",
              "      <th>pct_change</th>\n",
              "    </tr>\n",
              "  </thead>\n",
              "  <tbody>\n",
              "    <tr>\n",
              "      <th>2770</th>\n",
              "      <td>2011-12-26</td>\n",
              "      <td>15970.750000</td>\n",
              "      <td>11800.0</td>\n",
              "      <td>1.505349</td>\n",
              "      <td>1.194893</td>\n",
              "    </tr>\n",
              "    <tr>\n",
              "      <th>2771</th>\n",
              "      <td>2011-12-27</td>\n",
              "      <td>15873.950195</td>\n",
              "      <td>10800.0</td>\n",
              "      <td>1.579089</td>\n",
              "      <td>-0.688378</td>\n",
              "    </tr>\n",
              "    <tr>\n",
              "      <th>2772</th>\n",
              "      <td>2011-12-28</td>\n",
              "      <td>15727.849609</td>\n",
              "      <td>11800.0</td>\n",
              "      <td>1.412826</td>\n",
              "      <td>-0.797956</td>\n",
              "    </tr>\n",
              "    <tr>\n",
              "      <th>2773</th>\n",
              "      <td>2011-12-29</td>\n",
              "      <td>15543.929688</td>\n",
              "      <td>12800.0</td>\n",
              "      <td>1.348071</td>\n",
              "      <td>-0.734473</td>\n",
              "    </tr>\n",
              "    <tr>\n",
              "      <th>2774</th>\n",
              "      <td>2011-12-30</td>\n",
              "      <td>15454.919922</td>\n",
              "      <td>12800.0</td>\n",
              "      <td>1.863578</td>\n",
              "      <td>-0.825421</td>\n",
              "    </tr>\n",
              "  </tbody>\n",
              "</table>\n",
              "</div>"
            ],
            "text/plain": [
              "            Date     Adj Close   Volume    hl_pct  pct_change\n",
              "2770  2011-12-26  15970.750000  11800.0  1.505349    1.194893\n",
              "2771  2011-12-27  15873.950195  10800.0  1.579089   -0.688378\n",
              "2772  2011-12-28  15727.849609  11800.0  1.412826   -0.797956\n",
              "2773  2011-12-29  15543.929688  12800.0  1.348071   -0.734473\n",
              "2774  2011-12-30  15454.919922  12800.0  1.863578   -0.825421"
            ]
          },
          "metadata": {
            "tags": []
          },
          "execution_count": 303
        }
      ]
    },
    {
      "cell_type": "code",
      "metadata": {
        "id": "h38kmwBS_Uqm"
      },
      "source": [
        "df2['Date'] = pd.to_datetime(df2['Date'])"
      ],
      "execution_count": 304,
      "outputs": []
    },
    {
      "cell_type": "code",
      "metadata": {
        "colab": {
          "base_uri": "https://localhost:8080/",
          "height": 202
        },
        "id": "itmaXwrQ_Usv",
        "outputId": "3e430cc3-1800-4802-e73d-c1dd37677f4e"
      },
      "source": [
        "df2.head()"
      ],
      "execution_count": 305,
      "outputs": [
        {
          "output_type": "execute_result",
          "data": {
            "text/html": [
              "<div>\n",
              "<style scoped>\n",
              "    .dataframe tbody tr th:only-of-type {\n",
              "        vertical-align: middle;\n",
              "    }\n",
              "\n",
              "    .dataframe tbody tr th {\n",
              "        vertical-align: top;\n",
              "    }\n",
              "\n",
              "    .dataframe thead th {\n",
              "        text-align: right;\n",
              "    }\n",
              "</style>\n",
              "<table border=\"1\" class=\"dataframe\">\n",
              "  <thead>\n",
              "    <tr style=\"text-align: right;\">\n",
              "      <th></th>\n",
              "      <th>Date</th>\n",
              "      <th>Adj Close</th>\n",
              "      <th>Volume</th>\n",
              "      <th>hl_pct</th>\n",
              "      <th>pct_change</th>\n",
              "    </tr>\n",
              "  </thead>\n",
              "  <tbody>\n",
              "    <tr>\n",
              "      <th>0</th>\n",
              "      <td>2001-01-02</td>\n",
              "      <td>4018.879883</td>\n",
              "      <td>0.0</td>\n",
              "      <td>2.524576</td>\n",
              "      <td>1.660922</td>\n",
              "    </tr>\n",
              "    <tr>\n",
              "      <th>1</th>\n",
              "      <td>2001-01-03</td>\n",
              "      <td>4060.020020</td>\n",
              "      <td>0.0</td>\n",
              "      <td>2.264689</td>\n",
              "      <td>2.072616</td>\n",
              "    </tr>\n",
              "    <tr>\n",
              "      <th>2</th>\n",
              "      <td>2001-01-04</td>\n",
              "      <td>4115.370117</td>\n",
              "      <td>0.0</td>\n",
              "      <td>1.737913</td>\n",
              "      <td>-1.569016</td>\n",
              "    </tr>\n",
              "    <tr>\n",
              "      <th>3</th>\n",
              "      <td>2001-01-05</td>\n",
              "      <td>4183.729980</td>\n",
              "      <td>0.0</td>\n",
              "      <td>1.935672</td>\n",
              "      <td>1.637137</td>\n",
              "    </tr>\n",
              "    <tr>\n",
              "      <th>4</th>\n",
              "      <td>2001-01-08</td>\n",
              "      <td>4120.430176</td>\n",
              "      <td>0.0</td>\n",
              "      <td>2.564663</td>\n",
              "      <td>-1.064397</td>\n",
              "    </tr>\n",
              "  </tbody>\n",
              "</table>\n",
              "</div>"
            ],
            "text/plain": [
              "        Date    Adj Close  Volume    hl_pct  pct_change\n",
              "0 2001-01-02  4018.879883     0.0  2.524576    1.660922\n",
              "1 2001-01-03  4060.020020     0.0  2.264689    2.072616\n",
              "2 2001-01-04  4115.370117     0.0  1.737913   -1.569016\n",
              "3 2001-01-05  4183.729980     0.0  1.935672    1.637137\n",
              "4 2001-01-08  4120.430176     0.0  2.564663   -1.064397"
            ]
          },
          "metadata": {
            "tags": []
          },
          "execution_count": 305
        }
      ]
    },
    {
      "cell_type": "code",
      "metadata": {
        "colab": {
          "base_uri": "https://localhost:8080/"
        },
        "id": "eI-BKFMICbRs",
        "outputId": "0326694c-581e-47c8-f9b2-1ed99b5ebfe9"
      },
      "source": [
        "df2 = df2.dropna()\r\n",
        "df2.info()"
      ],
      "execution_count": 306,
      "outputs": [
        {
          "output_type": "stream",
          "text": [
            "<class 'pandas.core.frame.DataFrame'>\n",
            "Int64Index: 2717 entries, 0 to 2774\n",
            "Data columns (total 5 columns):\n",
            " #   Column      Non-Null Count  Dtype         \n",
            "---  ------      --------------  -----         \n",
            " 0   Date        2717 non-null   datetime64[ns]\n",
            " 1   Adj Close   2717 non-null   float64       \n",
            " 2   Volume      2717 non-null   float64       \n",
            " 3   hl_pct      2717 non-null   float64       \n",
            " 4   pct_change  2717 non-null   float64       \n",
            "dtypes: datetime64[ns](1), float64(4)\n",
            "memory usage: 127.4 KB\n"
          ],
          "name": "stdout"
        }
      ]
    },
    {
      "cell_type": "code",
      "metadata": {
        "id": "KUbZp4DXCqIQ"
      },
      "source": [
        "df_news.columns= ['Date','Headline','Polarity','Subjectivity','sentiment','opinion']"
      ],
      "execution_count": 307,
      "outputs": []
    },
    {
      "cell_type": "code",
      "metadata": {
        "colab": {
          "base_uri": "https://localhost:8080/"
        },
        "id": "5xZVvy7HRuqc",
        "outputId": "e3ca09f5-5703-4fd0-8591-76c67bf4c4e0"
      },
      "source": [
        "df_news.columns"
      ],
      "execution_count": 308,
      "outputs": [
        {
          "output_type": "execute_result",
          "data": {
            "text/plain": [
              "Index(['Date', 'Headline', 'Polarity', 'Subjectivity', 'sentiment', 'opinion'], dtype='object')"
            ]
          },
          "metadata": {
            "tags": []
          },
          "execution_count": 308
        }
      ]
    },
    {
      "cell_type": "markdown",
      "metadata": {
        "id": "6OuH1mwHNyEc"
      },
      "source": [
        "**Merging of News and stock price dataset on basis of Dates**"
      ]
    },
    {
      "cell_type": "code",
      "metadata": {
        "colab": {
          "base_uri": "https://localhost:8080/",
          "height": 393
        },
        "id": "ocXj0iy9Zbc7",
        "outputId": "0bb208ce-d999-4a0f-c535-38f99b129a12"
      },
      "source": [
        "mdf = df_news.merge(df2,how='inner',on ='Date',left_index=True)\r\n",
        "mdf.head()"
      ],
      "execution_count": 309,
      "outputs": [
        {
          "output_type": "execute_result",
          "data": {
            "text/html": [
              "<div>\n",
              "<style scoped>\n",
              "    .dataframe tbody tr th:only-of-type {\n",
              "        vertical-align: middle;\n",
              "    }\n",
              "\n",
              "    .dataframe tbody tr th {\n",
              "        vertical-align: top;\n",
              "    }\n",
              "\n",
              "    .dataframe thead th {\n",
              "        text-align: right;\n",
              "    }\n",
              "</style>\n",
              "<table border=\"1\" class=\"dataframe\">\n",
              "  <thead>\n",
              "    <tr style=\"text-align: right;\">\n",
              "      <th></th>\n",
              "      <th>Date</th>\n",
              "      <th>Headline</th>\n",
              "      <th>Polarity</th>\n",
              "      <th>Subjectivity</th>\n",
              "      <th>sentiment</th>\n",
              "      <th>opinion</th>\n",
              "      <th>Adj Close</th>\n",
              "      <th>Volume</th>\n",
              "      <th>hl_pct</th>\n",
              "      <th>pct_change</th>\n",
              "    </tr>\n",
              "  </thead>\n",
              "  <tbody>\n",
              "    <tr>\n",
              "      <th>0</th>\n",
              "      <td>2001-01-02</td>\n",
              "      <td>. Fissures in Hurriyat over Pak visit. America...</td>\n",
              "      <td>0.151333</td>\n",
              "      <td>0.282333</td>\n",
              "      <td>neutral</td>\n",
              "      <td>factual</td>\n",
              "      <td>4018.879883</td>\n",
              "      <td>0.0</td>\n",
              "      <td>2.524576</td>\n",
              "      <td>1.660922</td>\n",
              "    </tr>\n",
              "    <tr>\n",
              "      <th>1</th>\n",
              "      <td>2001-01-03</td>\n",
              "      <td>. Think again; Laxman tells Sangh Parivar. Hur...</td>\n",
              "      <td>0.163636</td>\n",
              "      <td>0.363636</td>\n",
              "      <td>neutral</td>\n",
              "      <td>factual</td>\n",
              "      <td>4060.020020</td>\n",
              "      <td>0.0</td>\n",
              "      <td>2.264689</td>\n",
              "      <td>2.072616</td>\n",
              "    </tr>\n",
              "    <tr>\n",
              "      <th>2</th>\n",
              "      <td>2001-01-04</td>\n",
              "      <td>. Vajpayee gives big push to tech education; R...</td>\n",
              "      <td>0.087961</td>\n",
              "      <td>0.446847</td>\n",
              "      <td>neutral</td>\n",
              "      <td>public</td>\n",
              "      <td>4115.370117</td>\n",
              "      <td>0.0</td>\n",
              "      <td>1.737913</td>\n",
              "      <td>-1.569016</td>\n",
              "    </tr>\n",
              "    <tr>\n",
              "      <th>3</th>\n",
              "      <td>2001-01-05</td>\n",
              "      <td>. Hawkings' day out. Light combat craft takes ...</td>\n",
              "      <td>0.260401</td>\n",
              "      <td>0.473984</td>\n",
              "      <td>positive</td>\n",
              "      <td>public</td>\n",
              "      <td>4183.729980</td>\n",
              "      <td>0.0</td>\n",
              "      <td>1.935672</td>\n",
              "      <td>1.637137</td>\n",
              "    </tr>\n",
              "    <tr>\n",
              "      <th>4</th>\n",
              "      <td>2001-01-08</td>\n",
              "      <td>. Frontrunner for key US post seen having Pak ...</td>\n",
              "      <td>-0.019214</td>\n",
              "      <td>0.414653</td>\n",
              "      <td>neutral</td>\n",
              "      <td>public</td>\n",
              "      <td>4120.430176</td>\n",
              "      <td>0.0</td>\n",
              "      <td>2.564663</td>\n",
              "      <td>-1.064397</td>\n",
              "    </tr>\n",
              "  </tbody>\n",
              "</table>\n",
              "</div>"
            ],
            "text/plain": [
              "        Date  ... pct_change\n",
              "0 2001-01-02  ...   1.660922\n",
              "1 2001-01-03  ...   2.072616\n",
              "2 2001-01-04  ...  -1.569016\n",
              "3 2001-01-05  ...   1.637137\n",
              "4 2001-01-08  ...  -1.064397\n",
              "\n",
              "[5 rows x 10 columns]"
            ]
          },
          "metadata": {
            "tags": []
          },
          "execution_count": 309
        }
      ]
    },
    {
      "cell_type": "code",
      "metadata": {
        "colab": {
          "base_uri": "https://localhost:8080/",
          "height": 202
        },
        "id": "BL0L_eUl46kQ",
        "outputId": "1e9942ef-8ba2-4475-d1a3-3ccddb765ff9"
      },
      "source": [
        "reqdf  = mdf[['Date','Polarity','Subjectivity','Adj Close','hl_pct','pct_change']]\r\n",
        "reqdf.head()"
      ],
      "execution_count": 310,
      "outputs": [
        {
          "output_type": "execute_result",
          "data": {
            "text/html": [
              "<div>\n",
              "<style scoped>\n",
              "    .dataframe tbody tr th:only-of-type {\n",
              "        vertical-align: middle;\n",
              "    }\n",
              "\n",
              "    .dataframe tbody tr th {\n",
              "        vertical-align: top;\n",
              "    }\n",
              "\n",
              "    .dataframe thead th {\n",
              "        text-align: right;\n",
              "    }\n",
              "</style>\n",
              "<table border=\"1\" class=\"dataframe\">\n",
              "  <thead>\n",
              "    <tr style=\"text-align: right;\">\n",
              "      <th></th>\n",
              "      <th>Date</th>\n",
              "      <th>Polarity</th>\n",
              "      <th>Subjectivity</th>\n",
              "      <th>Adj Close</th>\n",
              "      <th>hl_pct</th>\n",
              "      <th>pct_change</th>\n",
              "    </tr>\n",
              "  </thead>\n",
              "  <tbody>\n",
              "    <tr>\n",
              "      <th>0</th>\n",
              "      <td>2001-01-02</td>\n",
              "      <td>0.151333</td>\n",
              "      <td>0.282333</td>\n",
              "      <td>4018.879883</td>\n",
              "      <td>2.524576</td>\n",
              "      <td>1.660922</td>\n",
              "    </tr>\n",
              "    <tr>\n",
              "      <th>1</th>\n",
              "      <td>2001-01-03</td>\n",
              "      <td>0.163636</td>\n",
              "      <td>0.363636</td>\n",
              "      <td>4060.020020</td>\n",
              "      <td>2.264689</td>\n",
              "      <td>2.072616</td>\n",
              "    </tr>\n",
              "    <tr>\n",
              "      <th>2</th>\n",
              "      <td>2001-01-04</td>\n",
              "      <td>0.087961</td>\n",
              "      <td>0.446847</td>\n",
              "      <td>4115.370117</td>\n",
              "      <td>1.737913</td>\n",
              "      <td>-1.569016</td>\n",
              "    </tr>\n",
              "    <tr>\n",
              "      <th>3</th>\n",
              "      <td>2001-01-05</td>\n",
              "      <td>0.260401</td>\n",
              "      <td>0.473984</td>\n",
              "      <td>4183.729980</td>\n",
              "      <td>1.935672</td>\n",
              "      <td>1.637137</td>\n",
              "    </tr>\n",
              "    <tr>\n",
              "      <th>4</th>\n",
              "      <td>2001-01-08</td>\n",
              "      <td>-0.019214</td>\n",
              "      <td>0.414653</td>\n",
              "      <td>4120.430176</td>\n",
              "      <td>2.564663</td>\n",
              "      <td>-1.064397</td>\n",
              "    </tr>\n",
              "  </tbody>\n",
              "</table>\n",
              "</div>"
            ],
            "text/plain": [
              "        Date  Polarity  Subjectivity    Adj Close    hl_pct  pct_change\n",
              "0 2001-01-02  0.151333      0.282333  4018.879883  2.524576    1.660922\n",
              "1 2001-01-03  0.163636      0.363636  4060.020020  2.264689    2.072616\n",
              "2 2001-01-04  0.087961      0.446847  4115.370117  1.737913   -1.569016\n",
              "3 2001-01-05  0.260401      0.473984  4183.729980  1.935672    1.637137\n",
              "4 2001-01-08 -0.019214      0.414653  4120.430176  2.564663   -1.064397"
            ]
          },
          "metadata": {
            "tags": []
          },
          "execution_count": 310
        }
      ]
    },
    {
      "cell_type": "code",
      "metadata": {
        "id": "z3i_9wHS46sS"
      },
      "source": [
        "reqdf = reqdf.set_index('Date')"
      ],
      "execution_count": 311,
      "outputs": []
    },
    {
      "cell_type": "markdown",
      "metadata": {
        "id": "S91-j5D6OIFy"
      },
      "source": [
        "**Feature scaling using MinMaxScaler**"
      ]
    },
    {
      "cell_type": "code",
      "metadata": {
        "id": "RbHV0w0c46ut"
      },
      "source": [
        "from sklearn.preprocessing import MinMaxScaler"
      ],
      "execution_count": 312,
      "outputs": []
    },
    {
      "cell_type": "code",
      "metadata": {
        "id": "7yOmLzPf46yT"
      },
      "source": [
        "scaler = MinMaxScaler()\r\n",
        "df = pd.DataFrame(scaler.fit_transform(reqdf))\r\n",
        "df.columns = reqdf.columns\r\n",
        "df.index  = reqdf.index"
      ],
      "execution_count": 313,
      "outputs": []
    },
    {
      "cell_type": "code",
      "metadata": {
        "colab": {
          "base_uri": "https://localhost:8080/",
          "height": 233
        },
        "id": "IGfMwNeibPCy",
        "outputId": "abf8e07e-fa0d-4449-da2e-5d1fc0ff3285"
      },
      "source": [
        "df.head()"
      ],
      "execution_count": 314,
      "outputs": [
        {
          "output_type": "execute_result",
          "data": {
            "text/html": [
              "<div>\n",
              "<style scoped>\n",
              "    .dataframe tbody tr th:only-of-type {\n",
              "        vertical-align: middle;\n",
              "    }\n",
              "\n",
              "    .dataframe tbody tr th {\n",
              "        vertical-align: top;\n",
              "    }\n",
              "\n",
              "    .dataframe thead th {\n",
              "        text-align: right;\n",
              "    }\n",
              "</style>\n",
              "<table border=\"1\" class=\"dataframe\">\n",
              "  <thead>\n",
              "    <tr style=\"text-align: right;\">\n",
              "      <th></th>\n",
              "      <th>Polarity</th>\n",
              "      <th>Subjectivity</th>\n",
              "      <th>Adj Close</th>\n",
              "      <th>hl_pct</th>\n",
              "      <th>pct_change</th>\n",
              "    </tr>\n",
              "    <tr>\n",
              "      <th>Date</th>\n",
              "      <th></th>\n",
              "      <th></th>\n",
              "      <th></th>\n",
              "      <th></th>\n",
              "      <th></th>\n",
              "    </tr>\n",
              "  </thead>\n",
              "  <tbody>\n",
              "    <tr>\n",
              "      <th>2001-01-02</th>\n",
              "      <td>0.524545</td>\n",
              "      <td>0.498235</td>\n",
              "      <td>0.081643</td>\n",
              "      <td>0.115688</td>\n",
              "      <td>0.681352</td>\n",
              "    </tr>\n",
              "    <tr>\n",
              "      <th>2001-01-03</th>\n",
              "      <td>0.541322</td>\n",
              "      <td>0.641711</td>\n",
              "      <td>0.084011</td>\n",
              "      <td>0.101539</td>\n",
              "      <td>0.704859</td>\n",
              "    </tr>\n",
              "    <tr>\n",
              "      <th>2001-01-04</th>\n",
              "      <td>0.438129</td>\n",
              "      <td>0.788554</td>\n",
              "      <td>0.087196</td>\n",
              "      <td>0.072859</td>\n",
              "      <td>0.496922</td>\n",
              "    </tr>\n",
              "    <tr>\n",
              "      <th>2001-01-05</th>\n",
              "      <td>0.673274</td>\n",
              "      <td>0.836442</td>\n",
              "      <td>0.091130</td>\n",
              "      <td>0.083626</td>\n",
              "      <td>0.679993</td>\n",
              "    </tr>\n",
              "    <tr>\n",
              "      <th>2001-01-08</th>\n",
              "      <td>0.291981</td>\n",
              "      <td>0.731740</td>\n",
              "      <td>0.087487</td>\n",
              "      <td>0.117870</td>\n",
              "      <td>0.525736</td>\n",
              "    </tr>\n",
              "  </tbody>\n",
              "</table>\n",
              "</div>"
            ],
            "text/plain": [
              "            Polarity  Subjectivity  Adj Close    hl_pct  pct_change\n",
              "Date                                                               \n",
              "2001-01-02  0.524545      0.498235   0.081643  0.115688    0.681352\n",
              "2001-01-03  0.541322      0.641711   0.084011  0.101539    0.704859\n",
              "2001-01-04  0.438129      0.788554   0.087196  0.072859    0.496922\n",
              "2001-01-05  0.673274      0.836442   0.091130  0.083626    0.679993\n",
              "2001-01-08  0.291981      0.731740   0.087487  0.117870    0.525736"
            ]
          },
          "metadata": {
            "tags": []
          },
          "execution_count": 314
        }
      ]
    },
    {
      "cell_type": "code",
      "metadata": {
        "id": "oW3aPzVm460B"
      },
      "source": [
        "train = df[:int(0.7*(len(df)))]\r\n",
        "test =  df[int(0.7*(len(df))):]"
      ],
      "execution_count": 315,
      "outputs": []
    },
    {
      "cell_type": "code",
      "metadata": {
        "id": "SgGHLmze463C"
      },
      "source": [
        "from statsmodels.tsa.vector_ar.var_model import VAR\r\n",
        "model = VAR(endog =train)\r\n",
        "fitted = model.fit()"
      ],
      "execution_count": 316,
      "outputs": []
    },
    {
      "cell_type": "markdown",
      "metadata": {
        "id": "Y2lU8zKKOdyD"
      },
      "source": [
        "**Predicted vs Test**"
      ]
    },
    {
      "cell_type": "code",
      "metadata": {
        "id": "j8cKt8gM_MkM"
      },
      "source": [
        "pred = fitted.forecast(fitted.y, steps=len(test))\r\n",
        "predicted = pd.DataFrame(pred,columns=df.columns)\r\n"
      ],
      "execution_count": 317,
      "outputs": []
    },
    {
      "cell_type": "code",
      "metadata": {
        "colab": {
          "base_uri": "https://localhost:8080/",
          "height": 202
        },
        "id": "fwTlwIUESKoM",
        "outputId": "d05024dc-814a-43b4-eb30-363931affe64"
      },
      "source": [
        "predicted.head()"
      ],
      "execution_count": 318,
      "outputs": [
        {
          "output_type": "execute_result",
          "data": {
            "text/html": [
              "<div>\n",
              "<style scoped>\n",
              "    .dataframe tbody tr th:only-of-type {\n",
              "        vertical-align: middle;\n",
              "    }\n",
              "\n",
              "    .dataframe tbody tr th {\n",
              "        vertical-align: top;\n",
              "    }\n",
              "\n",
              "    .dataframe thead th {\n",
              "        text-align: right;\n",
              "    }\n",
              "</style>\n",
              "<table border=\"1\" class=\"dataframe\">\n",
              "  <thead>\n",
              "    <tr style=\"text-align: right;\">\n",
              "      <th></th>\n",
              "      <th>Polarity</th>\n",
              "      <th>Subjectivity</th>\n",
              "      <th>Adj Close</th>\n",
              "      <th>hl_pct</th>\n",
              "      <th>pct_change</th>\n",
              "    </tr>\n",
              "  </thead>\n",
              "  <tbody>\n",
              "    <tr>\n",
              "      <th>0</th>\n",
              "      <td>0.414728</td>\n",
              "      <td>0.744575</td>\n",
              "      <td>0.341928</td>\n",
              "      <td>0.072977</td>\n",
              "      <td>0.581895</td>\n",
              "    </tr>\n",
              "    <tr>\n",
              "      <th>1</th>\n",
              "      <td>0.414388</td>\n",
              "      <td>0.729295</td>\n",
              "      <td>0.342504</td>\n",
              "      <td>0.072462</td>\n",
              "      <td>0.583726</td>\n",
              "    </tr>\n",
              "    <tr>\n",
              "      <th>2</th>\n",
              "      <td>0.414003</td>\n",
              "      <td>0.726323</td>\n",
              "      <td>0.343076</td>\n",
              "      <td>0.072302</td>\n",
              "      <td>0.583699</td>\n",
              "    </tr>\n",
              "    <tr>\n",
              "      <th>3</th>\n",
              "      <td>0.413923</td>\n",
              "      <td>0.725737</td>\n",
              "      <td>0.343645</td>\n",
              "      <td>0.072264</td>\n",
              "      <td>0.583669</td>\n",
              "    </tr>\n",
              "    <tr>\n",
              "      <th>4</th>\n",
              "      <td>0.413921</td>\n",
              "      <td>0.725643</td>\n",
              "      <td>0.344215</td>\n",
              "      <td>0.072256</td>\n",
              "      <td>0.583661</td>\n",
              "    </tr>\n",
              "  </tbody>\n",
              "</table>\n",
              "</div>"
            ],
            "text/plain": [
              "   Polarity  Subjectivity  Adj Close    hl_pct  pct_change\n",
              "0  0.414728      0.744575   0.341928  0.072977    0.581895\n",
              "1  0.414388      0.729295   0.342504  0.072462    0.583726\n",
              "2  0.414003      0.726323   0.343076  0.072302    0.583699\n",
              "3  0.413923      0.725737   0.343645  0.072264    0.583669\n",
              "4  0.413921      0.725643   0.344215  0.072256    0.583661"
            ]
          },
          "metadata": {
            "tags": []
          },
          "execution_count": 318
        }
      ]
    },
    {
      "cell_type": "code",
      "metadata": {
        "colab": {
          "base_uri": "https://localhost:8080/",
          "height": 233
        },
        "id": "Qb8rTV1D_mJq",
        "outputId": "ee38a07e-7dd9-40a8-decf-47a95425701a"
      },
      "source": [
        "test.head()"
      ],
      "execution_count": 319,
      "outputs": [
        {
          "output_type": "execute_result",
          "data": {
            "text/html": [
              "<div>\n",
              "<style scoped>\n",
              "    .dataframe tbody tr th:only-of-type {\n",
              "        vertical-align: middle;\n",
              "    }\n",
              "\n",
              "    .dataframe tbody tr th {\n",
              "        vertical-align: top;\n",
              "    }\n",
              "\n",
              "    .dataframe thead th {\n",
              "        text-align: right;\n",
              "    }\n",
              "</style>\n",
              "<table border=\"1\" class=\"dataframe\">\n",
              "  <thead>\n",
              "    <tr style=\"text-align: right;\">\n",
              "      <th></th>\n",
              "      <th>Polarity</th>\n",
              "      <th>Subjectivity</th>\n",
              "      <th>Adj Close</th>\n",
              "      <th>hl_pct</th>\n",
              "      <th>pct_change</th>\n",
              "    </tr>\n",
              "    <tr>\n",
              "      <th>Date</th>\n",
              "      <th></th>\n",
              "      <th></th>\n",
              "      <th></th>\n",
              "      <th></th>\n",
              "      <th></th>\n",
              "    </tr>\n",
              "  </thead>\n",
              "  <tbody>\n",
              "    <tr>\n",
              "      <th>2005-11-23</th>\n",
              "      <td>0.441913</td>\n",
              "      <td>0.836070</td>\n",
              "      <td>0.347472</td>\n",
              "      <td>0.049791</td>\n",
              "      <td>0.650500</td>\n",
              "    </tr>\n",
              "    <tr>\n",
              "      <th>2005-11-24</th>\n",
              "      <td>0.380178</td>\n",
              "      <td>0.708086</td>\n",
              "      <td>0.353555</td>\n",
              "      <td>0.047794</td>\n",
              "      <td>0.645163</td>\n",
              "    </tr>\n",
              "    <tr>\n",
              "      <th>2005-11-25</th>\n",
              "      <td>0.425792</td>\n",
              "      <td>0.597576</td>\n",
              "      <td>0.359837</td>\n",
              "      <td>0.042394</td>\n",
              "      <td>0.646808</td>\n",
              "    </tr>\n",
              "    <tr>\n",
              "      <th>2005-11-28</th>\n",
              "      <td>0.396004</td>\n",
              "      <td>0.633611</td>\n",
              "      <td>0.367993</td>\n",
              "      <td>0.039344</td>\n",
              "      <td>0.643744</td>\n",
              "    </tr>\n",
              "    <tr>\n",
              "      <th>2005-11-29</th>\n",
              "      <td>0.406859</td>\n",
              "      <td>0.635238</td>\n",
              "      <td>0.364323</td>\n",
              "      <td>0.054811</td>\n",
              "      <td>0.542428</td>\n",
              "    </tr>\n",
              "  </tbody>\n",
              "</table>\n",
              "</div>"
            ],
            "text/plain": [
              "            Polarity  Subjectivity  Adj Close    hl_pct  pct_change\n",
              "Date                                                               \n",
              "2005-11-23  0.441913      0.836070   0.347472  0.049791    0.650500\n",
              "2005-11-24  0.380178      0.708086   0.353555  0.047794    0.645163\n",
              "2005-11-25  0.425792      0.597576   0.359837  0.042394    0.646808\n",
              "2005-11-28  0.396004      0.633611   0.367993  0.039344    0.643744\n",
              "2005-11-29  0.406859      0.635238   0.364323  0.054811    0.542428"
            ]
          },
          "metadata": {
            "tags": []
          },
          "execution_count": 319
        }
      ]
    },
    {
      "cell_type": "code",
      "metadata": {
        "colab": {
          "base_uri": "https://localhost:8080/"
        },
        "id": "RF-W3rER7Fow",
        "outputId": "a7a20c38-cfd9-4ba4-dc98-390c282b8ee6"
      },
      "source": [
        "from sklearn.metrics import mean_squared_error\r\n",
        "np.sqrt(mean_squared_error(predicted['Adj Close'],test['Adj Close']))"
      ],
      "execution_count": 320,
      "outputs": [
        {
          "output_type": "execute_result",
          "data": {
            "text/plain": [
              "0.0916673571080565"
            ]
          },
          "metadata": {
            "tags": []
          },
          "execution_count": 320
        }
      ]
    },
    {
      "cell_type": "code",
      "metadata": {
        "colab": {
          "base_uri": "https://localhost:8080/"
        },
        "id": "xaL_-OfcEOmi",
        "outputId": "80902609-c5f0-4d4b-aa56-f78bf092306f"
      },
      "source": [
        "from sklearn.metrics import r2_score\r\n",
        "from sklearn.metrics import mean_absolute_error\r\n",
        "from sklearn.metrics import mean_squared_error\r\n",
        "print ('R Squared =',r2_score(test['Adj Close'],predicted['Adj Close']))\r\n",
        "print ('MAE =',mean_absolute_error(test['Adj Close'],predicted['Adj Close']))\r\n",
        "print ('MSE =',mean_squared_error(test['Adj Close'],predicted['Adj Close']))"
      ],
      "execution_count": 325,
      "outputs": [
        {
          "output_type": "stream",
          "text": [
            "R Squared = 0.6550771722083735\n",
            "MAE = 0.07343497530882377\n",
            "MSE = 0.008402904359175957\n"
          ],
          "name": "stdout"
        }
      ]
    }
  ]
}